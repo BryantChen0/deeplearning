{
 "cells": [
  {
   "cell_type": "code",
   "execution_count": 1,
   "outputs": [
    {
     "name": "stdout",
     "output_type": "stream",
     "text": [
      "[[ 8.59463520e-01 -7.86655502e-01  2.75919393e-01 -7.60212694e-01\n",
      "   1.67179817e-01]\n",
      " [ 4.11920156e-01  4.98910439e-01  3.05827001e-01 -4.80906779e-02\n",
      "   9.13054386e-01]\n",
      " [-5.66204422e-01  7.06044059e-01 -6.37280088e-01  4.55364272e-01\n",
      "  -2.03970430e-01]\n",
      " [ 2.27230596e-01 -3.53368143e-01  6.95894227e-01  1.90386709e-01\n",
      "   2.38272920e-01]\n",
      " [-2.91164895e-01 -2.07117152e-01 -9.11649517e-01 -1.65721436e-01\n",
      "   8.64626428e-01]\n",
      " [ 9.94671091e-01  9.98094037e-01  8.11129610e-01 -4.00522761e-01\n",
      "  -9.85631205e-01]\n",
      " [-7.55141190e-01 -2.24878782e-01  2.40177588e-01  4.55961117e-01\n",
      "   4.24379352e-02]\n",
      " [ 1.26255396e-01  4.35734824e-01  7.66533414e-01  5.38782750e-01\n",
      "  -2.80439491e-01]\n",
      " [ 5.53941341e-02 -5.75671440e-01  1.79257437e-01 -1.60796801e-01\n",
      "  -6.24295532e-01]\n",
      " [ 2.24334600e-01  8.68528679e-01  9.75592027e-01  7.24922835e-01\n",
      "  -6.20596702e-01]\n",
      " [ 7.76235401e-01 -5.95484011e-01  9.34332932e-01 -6.78056183e-01\n",
      "  -7.61086919e-01]\n",
      " [ 7.14307728e-01 -4.41348745e-01 -2.56354776e-01  1.20394414e-01\n",
      "  -4.44190281e-01]\n",
      " [-3.99033523e-01 -7.51406713e-01 -8.92696408e-01  6.11563299e-01\n",
      "  -2.60788814e-02]\n",
      " [-2.67460644e-01  3.57736965e-01  7.85291712e-01  4.11901032e-01\n",
      "   9.64804678e-01]\n",
      " [ 9.88459962e-01 -2.69849333e-01 -6.00320803e-01  3.28908221e-01\n",
      "  -8.70232100e-01]\n",
      " [-2.72189711e-01  8.08297693e-01  5.59890296e-01  9.11384718e-01\n",
      "   7.79291658e-01]\n",
      " [-9.32004582e-01 -7.37203721e-01  4.05302549e-01  2.87179911e-01\n",
      "   6.77326363e-01]\n",
      " [ 2.15169096e-01  8.34800922e-01 -3.73992175e-01 -8.33312185e-01\n",
      "  -8.20686118e-01]\n",
      " [ 1.66827885e-02 -7.26425646e-01  4.38819711e-01  1.46437852e-01\n",
      "   8.96630449e-02]\n",
      " [ 4.24777750e-01 -6.33309257e-01 -6.02069732e-01 -9.02425044e-01\n",
      "  -9.65448083e-01]\n",
      " [ 1.35914771e-01 -3.27852757e-01 -1.70834494e-01  6.11335664e-01\n",
      "   7.87981844e-01]\n",
      " [-4.41320990e-01 -4.03190736e-01 -2.44884678e-01 -5.84518311e-01\n",
      "   7.66207532e-01]\n",
      " [ 7.16409943e-01 -4.42539451e-01  3.49142537e-02  9.51426600e-01\n",
      "  -2.63368093e-01]\n",
      " [ 6.22326567e-01  8.68817905e-01  4.66973635e-01 -1.08047697e-01\n",
      "  -5.10424874e-01]\n",
      " [-3.97826389e-01 -6.39861315e-01 -7.41649119e-01  3.06931912e-01\n",
      "  -7.68208643e-01]\n",
      " [ 5.53749695e-01 -1.02462520e-01 -9.62267019e-01  6.39964402e-01\n",
      "   9.81413033e-01]\n",
      " [-9.54804026e-01  7.50658214e-01 -5.03991406e-01  5.28089067e-02\n",
      "  -4.18483315e-01]\n",
      " [-4.30382379e-01  1.33690617e-01 -7.31232696e-01 -8.34889928e-01\n",
      "  -3.60513860e-01]\n",
      " [ 1.12076162e-01  8.03754101e-01  3.06341868e-02 -2.63718163e-01\n",
      "   8.83067399e-01]\n",
      " [ 8.54335534e-01 -1.85240336e-01 -6.62684363e-01 -3.85169365e-01\n",
      "   6.38247058e-01]\n",
      " [ 8.38339907e-02  4.18206609e-02 -8.23014144e-01 -8.89044583e-01\n",
      "  -9.03999472e-01]\n",
      " [-9.44397742e-01 -3.98527267e-01 -3.00509691e-01  8.30534652e-01\n",
      "   5.55696766e-01]\n",
      " [-8.10208645e-01 -3.59237082e-01  9.44441516e-01 -1.63331654e-02\n",
      "   3.15448281e-02]\n",
      " [ 2.26901019e-01  6.88006155e-01  9.20070122e-01 -4.35227521e-01\n",
      "   8.91073499e-01]\n",
      " [ 3.54928660e-01  6.33664920e-01  3.46700481e-01  6.48346691e-02\n",
      "  -7.88233101e-01]\n",
      " [ 7.92152289e-01 -3.94072800e-01 -8.92292944e-01  9.03002305e-02\n",
      "  -9.30403125e-01]\n",
      " [ 1.73985227e-01  7.51735623e-01 -7.64022512e-01  9.07475306e-01\n",
      "   5.55153238e-02]\n",
      " [-8.80300884e-01 -3.57805157e-01  2.10054111e-01 -9.77812485e-01\n",
      "   3.55616446e-01]\n",
      " [ 4.44436260e-01 -1.41864644e-01  2.52715058e-02  5.69671641e-01\n",
      "   6.14650299e-01]\n",
      " [ 3.56322685e-02  7.22968131e-01 -9.25700761e-01  2.67946056e-01\n",
      "   9.89356249e-02]\n",
      " [ 2.90380900e-01  4.33918360e-01 -7.98740170e-01 -3.29509793e-01\n",
      "   1.21082391e-01]\n",
      " [ 4.93356589e-01 -7.27258731e-01 -2.88700465e-01  5.76254073e-01\n",
      "   2.00962241e-01]\n",
      " [-4.76810511e-01 -3.37102478e-01 -4.49721502e-01  1.97799693e-01\n",
      "  -3.52377789e-01]\n",
      " [ 7.92704238e-01  2.79672174e-01  4.63161880e-01 -6.42964463e-01\n",
      "   1.28142174e-01]\n",
      " [-1.49283166e-01  3.23063926e-01 -9.52779280e-01  3.12669839e-01\n",
      "  -1.10116844e-01]\n",
      " [-3.99701489e-01 -2.88399081e-01  6.97850280e-01  4.95000595e-01\n",
      "  -4.52471706e-01]\n",
      " [-2.57908846e-01  9.02768704e-02 -7.15245839e-01 -4.94383143e-01\n",
      "  -9.46437784e-01]\n",
      " [-3.17969600e-01 -2.65267970e-01 -1.79882722e-01  8.56484620e-01\n",
      "  -1.99786303e-01]\n",
      " [-4.69757957e-01 -7.76774066e-01  6.10743399e-01  1.64802922e-01\n",
      "  -1.19360565e-01]\n",
      " [ 1.81711937e-02 -7.30691727e-01 -1.86171066e-01  3.50404331e-01\n",
      "   7.25429901e-01]\n",
      " [ 3.40831586e-01  6.61448542e-01  6.85067482e-01  1.16298061e-01\n",
      "  -9.94930288e-01]\n",
      " [-1.70055195e-01  3.94254544e-01  6.60186298e-01 -4.14907695e-01\n",
      "   5.57379114e-01]\n",
      " [ 5.89548459e-01  4.49842885e-01  7.88864299e-01 -2.93363264e-01\n",
      "  -5.37773602e-02]\n",
      " [-3.51914098e-01  2.25304448e-01 -1.55688498e-02 -3.66423755e-01\n",
      "  -7.76494764e-01]\n",
      " [ 2.01237388e-02  6.63921143e-01  8.37215855e-01 -1.60933971e-01\n",
      "   9.03092666e-01]\n",
      " [-3.59247616e-01 -8.43537481e-01 -3.33265846e-01  4.63548771e-01\n",
      "  -6.18244252e-01]\n",
      " [ 9.70083488e-01  4.90888160e-01  4.39881090e-01 -4.19140580e-01\n",
      "  -2.74142741e-01]\n",
      " [ 1.71736225e-01 -1.10838138e-01 -9.07163278e-01 -1.87895434e-01\n",
      "  -2.95873553e-01]\n",
      " [ 1.58711984e-01  7.28644950e-01 -7.69080165e-01  2.25286766e-01\n",
      "  -5.12121166e-01]\n",
      " [ 4.05456543e-01 -2.58517636e-01 -7.68115982e-02 -7.67875162e-01\n",
      "   5.62486377e-01]\n",
      " [-6.09316266e-01  5.19100237e-01  8.15473515e-01 -8.40108896e-01\n",
      "   3.38973756e-01]\n",
      " [-5.74377623e-01  2.81094893e-03 -1.45142988e-01  9.49274911e-01\n",
      "  -4.18613440e-01]\n",
      " [-2.68834933e-01  9.16113755e-01  3.26328252e-01  1.26699730e-01\n",
      "  -7.59074948e-01]\n",
      " [-1.97232308e-01  7.62152640e-01 -5.74313144e-01  3.72768871e-01\n",
      "   3.86040948e-01]\n",
      " [-2.22575861e-01  1.53266069e-01 -7.01086442e-01 -7.53546926e-02\n",
      "  -7.73443890e-02]\n",
      " [-4.21871824e-01 -1.65717093e-01 -1.84536179e-01  2.72754832e-01\n",
      "  -5.59030345e-01]\n",
      " [ 6.95710684e-01  7.22846241e-01  9.75642919e-01 -2.84255976e-01\n",
      "  -7.57731897e-01]\n",
      " [-2.62149191e-02 -2.59432935e-01 -3.08239834e-01 -1.15300911e-01\n",
      "   3.67534911e-01]\n",
      " [-8.27490232e-01 -9.25009363e-01  1.47701786e-02  8.05261166e-01\n",
      "   1.05242065e-01]\n",
      " [ 5.99292483e-05  1.79636101e-01  8.97751262e-01  7.54013965e-01\n",
      "  -7.49001194e-01]\n",
      " [-4.05415147e-01 -3.74681608e-01 -4.02213916e-01 -5.58860342e-01\n",
      "  -4.04780615e-01]\n",
      " [-4.46467137e-01 -1.13078230e-01  6.99656233e-01  7.47412314e-01\n",
      "   8.75015608e-01]\n",
      " [-9.12119554e-01  7.26082044e-01  8.21019672e-01  2.04487942e-01\n",
      "   5.16892390e-01]\n",
      " [ 1.34188810e-01  4.15537671e-01  6.55854647e-01  9.80574598e-01\n",
      "   4.79855438e-01]\n",
      " [-6.29432166e-01  3.81064527e-01  2.28048719e-01 -3.81799741e-01\n",
      "  -4.88491366e-01]\n",
      " [-6.57540446e-01 -5.59089278e-01 -5.33501743e-01  6.73538176e-01\n",
      "  -1.15129741e-01]\n",
      " [ 1.16469774e-01 -2.33592512e-01  9.27758570e-01 -2.11586381e-01\n",
      "  -7.21724978e-01]\n",
      " [ 1.12531658e-02  8.81227280e-01  6.33802642e-01  2.59933828e-01\n",
      "   5.39142165e-01]\n",
      " [ 1.92676438e-01  5.53941121e-01  2.94194815e-01 -7.31741246e-01\n",
      "   8.55284169e-01]\n",
      " [-9.94973120e-01 -3.28373393e-04 -6.05781455e-01  1.01211581e-01\n",
      "   8.30909142e-01]\n",
      " [ 5.43655437e-01 -5.37501806e-01 -9.97966069e-01  7.98688476e-02\n",
      "   7.16826135e-01]\n",
      " [ 5.71411268e-02  6.43847129e-01  8.70916234e-01  3.05723523e-01\n",
      "   6.30421803e-01]\n",
      " [ 6.33448694e-01 -6.68408733e-01  3.26763219e-01 -2.37706130e-01\n",
      "   9.30256361e-01]\n",
      " [-9.37236350e-01  4.75642622e-01  8.77644417e-01 -1.81208792e-01\n",
      "   8.95092434e-01]\n",
      " [ 2.86325340e-01 -5.88396010e-01 -6.66140909e-01  9.81627920e-01\n",
      "   6.25006565e-01]\n",
      " [ 8.08539364e-01 -3.36385737e-01  5.70886301e-01  4.51696259e-01\n",
      "  -6.05563848e-01]\n",
      " [ 3.35639270e-02  6.80136671e-01  3.56096817e-01  4.00822479e-01\n",
      "   6.40733436e-01]\n",
      " [ 2.44953459e-04  6.05767007e-01 -2.80131018e-02  6.21942785e-01\n",
      "  -7.89973290e-01]\n",
      " [ 6.25340425e-01 -6.11469268e-01  1.33127040e-01  6.17135818e-01\n",
      "  -5.64146762e-01]\n",
      " [-4.65085825e-01 -8.09166383e-01 -3.60934682e-01 -5.69435771e-01\n",
      "  -3.32687830e-01]\n",
      " [ 8.79215072e-01  2.24381205e-01  9.06648230e-03  6.89123914e-01\n",
      "   4.24365882e-01]\n",
      " [ 9.22998686e-01 -6.46805354e-01  3.53238378e-01  6.42780808e-01\n",
      "  -7.50378218e-01]\n",
      " [-8.87434109e-01  6.23343476e-01 -8.47211422e-01 -6.17215301e-01\n",
      "   8.07564314e-01]\n",
      " [-3.02481209e-01 -3.05359994e-01 -7.96743311e-01  9.58811451e-01\n",
      "   7.32947221e-01]\n",
      " [ 9.50142313e-01 -1.67542635e-01 -1.68582248e-01 -9.25888773e-01\n",
      "  -8.13835857e-01]\n",
      " [ 3.45249070e-01  3.10978327e-01 -1.94667996e-01  9.44574673e-01\n",
      "   5.83293654e-01]\n",
      " [ 6.79102584e-01  1.66353630e-01  6.11943589e-01 -2.73030795e-01\n",
      "   2.50918720e-01]\n",
      " [ 5.61273441e-01  2.21096782e-01 -6.11074741e-01  9.95938773e-02\n",
      "  -5.26221645e-01]\n",
      " [ 2.46729474e-01  1.28109645e-01  3.15095986e-01  6.09238567e-01\n",
      "  -6.20949740e-01]\n",
      " [ 6.06125671e-02  7.65467129e-01 -1.39745181e-01 -6.42759453e-01\n",
      "   1.35278791e-01]]\n",
      "[0. 0. 0. 0. 0. 0. 0. 0. 0. 0. 0. 0. 0. 0. 0. 0. 0. 0. 0. 0. 0. 0. 0. 0.\n",
      " 0. 0. 0. 0. 0. 0. 0. 0. 0. 0. 0. 0. 0. 0. 0. 0. 1. 0. 0. 0. 0. 0. 0. 0.\n",
      " 0. 0. 0. 0. 0. 0. 0. 0. 0. 0. 0. 0. 0. 0. 0. 0. 0. 0. 0. 0. 0. 0. 0. 0.\n",
      " 0. 0. 0. 0. 0. 0. 0. 0. 0. 0. 0. 0. 0. 0. 0. 0. 0. 0. 0. 0. 0. 0. 0. 0.\n",
      " 0. 0. 0. 0.]\n"
     ]
    }
   ],
   "source": [
    "import numpy\n",
    "import random\n",
    "\n",
    "# Generate [n] random vectors with [d] dimension\n",
    "# One will be selected randomly and label as 1, the rest as 0\n",
    "def generate_dateset(d, n):\n",
    "    x = numpy.random.uniform(-1, 1, (n, d))\n",
    "    y = numpy.zeros(n)\n",
    "    y[random.randrange(0, n)] = 1\n",
    "    return x, y\n",
    "\n",
    "X, Y = generate_dateset(5, 100)\n",
    "print(X)\n",
    "print(Y)"
   ],
   "metadata": {
    "collapsed": false,
    "pycharm": {
     "name": "#%%\n"
    }
   }
  },
  {
   "cell_type": "code",
   "execution_count": 2,
   "outputs": [
    {
     "name": "stdout",
     "output_type": "stream",
     "text": [
      "174 89\n"
     ]
    }
   ],
   "source": [
    "class Node:\n",
    "    def __init__(self, data, children=None, backward_func=lambda out: None):\n",
    "        self.data = data\n",
    "        self.grad = 0\n",
    "        self.children = children\n",
    "        self.backward_func = backward_func\n",
    "\n",
    "    def backward(self):\n",
    "        self.grad = 1\n",
    "        self.backward0(set())\n",
    "\n",
    "    def backward0(self, visited):\n",
    "        self.backward_func(self)\n",
    "        if self.children is None: return\n",
    "\n",
    "        for child in self.children:\n",
    "            if child not in visited:\n",
    "                visited.add(child)\n",
    "                child.backward0(visited)\n",
    "\n",
    "    def __add__(self, other):\n",
    "        other = other if isinstance(other, Node) else Node(other)\n",
    "\n",
    "        def backward_func0(out):\n",
    "            self.grad += out.grad\n",
    "            other.grad += out.grad\n",
    "\n",
    "        return Node(self.data + other.data, [self, other], backward_func0)\n",
    "\n",
    "    def __mul__(self, other):\n",
    "        other = other if isinstance(other, Node) else Node(other)\n",
    "\n",
    "        def backward_func0(out):\n",
    "            self.grad += other.data * out.grad\n",
    "            other.grad += self.data * out.grad\n",
    "\n",
    "        return Node(self.data * other.data, [self, other], backward_func0)\n",
    "\n",
    "    def __pow__(self, other):\n",
    "        assert isinstance(other, (int, float))\n",
    "\n",
    "        def backward_func0(out):\n",
    "            self.grad += (other * self.data ** (other - 1)) * out.grad\n",
    "\n",
    "        return Node(self.data ** other, [self], backward_func0)\n",
    "\n",
    "    def __radd__(self, other):\n",
    "        return self + other\n",
    "\n",
    "    def __neg__(self):\n",
    "        return self * -1\n",
    "\n",
    "    def __sub__(self, other):\n",
    "        return self + (-other)\n",
    "\n",
    "    def __rsub__(self, other):\n",
    "        return -self + other\n",
    "\n",
    "    def __rmul__(self, other):\n",
    "        return self * other\n",
    "\n",
    "    def __truediv__(self, other):\n",
    "        return self * (1 / other)\n",
    "\n",
    "    def __rtruediv__(self, other):\n",
    "        return (1 / other) * self\n",
    "\n",
    "    def __float__(self):\n",
    "        return float(self.data)\n",
    "\n",
    "a = Node(5)\n",
    "\n",
    "def f(x): return (x + 2) ** 2 + x ** 3\n",
    "\n",
    "y = f(a)\n",
    "y.backward()\n",
    "print(y.data, a.grad)"
   ],
   "metadata": {
    "collapsed": false,
    "pycharm": {
     "name": "#%%\n"
    }
   }
  },
  {
   "cell_type": "code",
   "execution_count": 3,
   "outputs": [],
   "source": [
    "def random_node():\n",
    "    return Node(random.uniform(-1, 1))\n",
    "\n",
    "class Layer:\n",
    "    def __init__(self, input_size, output_size, activation_func=lambda x: x):\n",
    "        self.input_size = input_size\n",
    "        self.output_size = output_size\n",
    "        self.activation_func = activation_func\n",
    "        self.weights = [[random_node() for _ in range(input_size)] for _ in range(output_size)]\n",
    "        self.bias = [random_node() for _ in range(output_size)]\n",
    "\n",
    "    def __call__(self, inputs):\n",
    "        y = [sum(w * x for w, x in zip(weights, inputs)) for weights in self.weights]\n",
    "        y = [y + b for y, b in zip(y, self.bias)]\n",
    "        y = [self.activation_func(y) for y in y]\n",
    "        return y\n",
    "\n",
    "class NeuralNetwork:\n",
    "    def __init__(self, *layers):\n",
    "        self.input_size = layers[0].input_size\n",
    "        self.output_size = layers[-1].output_size\n",
    "        self.layers = layers\n",
    "        self.parameters = []\n",
    "        for layer in layers:\n",
    "            for w in layer.weights:\n",
    "                self.parameters += w\n",
    "            self.parameters += layer.bias\n",
    "\n",
    "    def zero_grad(self):\n",
    "        for p in self.parameters:\n",
    "            p.grad = 0\n",
    "\n",
    "    def update(self, learning_rate):\n",
    "        for p in self.parameters:\n",
    "            p.data -= p.grad * learning_rate\n",
    "\n",
    "    def __call__(self, x):\n",
    "        y = x\n",
    "        for layer in self.layers:\n",
    "            y = layer(y)\n",
    "        return y"
   ],
   "metadata": {
    "collapsed": false,
    "pycharm": {
     "name": "#%%\n"
    }
   }
  },
  {
   "cell_type": "code",
   "execution_count": 4,
   "outputs": [
    {
     "name": "stdout",
     "output_type": "stream",
     "text": [
      "16 144\n"
     ]
    }
   ],
   "source": [
    "def relu(self: Node):\n",
    "    def backward_func0(out):\n",
    "        self.grad += (self.data > 0) * out.grad\n",
    "\n",
    "    return Node(max(self.data, 0), [self], backward_func0)\n",
    "\n",
    "# Testing relu function\n",
    "x = Node(1)\n",
    "y = 2 * (relu(2 * x ** 3)) ** 3\n",
    "y.backward()\n",
    "print(y.data, x.grad)"
   ],
   "metadata": {
    "collapsed": false,
    "pycharm": {
     "name": "#%%\n"
    }
   }
  },
  {
   "cell_type": "code",
   "execution_count": 5,
   "outputs": [],
   "source": [
    "import matplotlib.pyplot as plt\n",
    "\n",
    "def run_test_with_network(network, X, Y, max_epoch, learning_rate, print_result=False):\n",
    "    n = len(Y)\n",
    "    plot_epoch = []\n",
    "    plot_loss = []\n",
    "\n",
    "    for epoch in range(max_epoch):\n",
    "        losses = []\n",
    "        for x, y in zip(X, Y):\n",
    "            y_pred = network(x)[0]\n",
    "            if y == 0:\n",
    "                loss = (y_pred - 0) ** 2\n",
    "            else:\n",
    "                loss = (y_pred - 1) ** 2 * n\n",
    "            losses.append(loss)\n",
    "        loss = sum(losses) / n\n",
    "        network.zero_grad()\n",
    "        loss.backward()\n",
    "        network.update(learning_rate)\n",
    "\n",
    "        plot_epoch.append(epoch)\n",
    "        plot_loss.append(loss.data)\n",
    "\n",
    "    if print_result:\n",
    "        plt.plot(plot_epoch, plot_loss)\n",
    "        plt.xlabel(\"epoch\")\n",
    "        plt.ylabel(\"loss\")\n",
    "        plt.show()\n",
    "\n",
    "    results = []\n",
    "\n",
    "    for x, y in zip(X, Y):\n",
    "        y_pred = network(x)[0]\n",
    "        results.append([y_pred.data, y])\n",
    "\n",
    "    results.sort(key=lambda x: x[0], reverse=True)\n",
    "    ranking = 0\n",
    "\n",
    "    for i, result in enumerate(results):\n",
    "        if result[1] == 1:\n",
    "            ranking = i\n",
    "        if print_result:\n",
    "            print(result)\n",
    "\n",
    "    return ranking"
   ],
   "metadata": {
    "collapsed": false,
    "pycharm": {
     "name": "#%%\n"
    }
   }
  },
  {
   "cell_type": "code",
   "execution_count": 6,
   "outputs": [
    {
     "name": "stdout",
     "output_type": "stream",
     "text": [
      "[[ 0.31432776 -0.81858714 -0.49953734 -0.34752062  0.66854915]\n",
      " [-0.13818421  0.58019185  0.97252825 -0.99449448  0.54175851]\n",
      " [-0.66288063 -0.88190542  0.34262383 -0.59125927 -0.23400403]\n",
      " [ 0.94703099 -0.07446894  0.47117926  0.98237941  0.88603312]\n",
      " [ 0.01600063  0.42838862  0.96254517  0.86069428 -0.67517278]\n",
      " [-0.28488211  0.1949373   0.67936628  0.7118177  -0.78036342]\n",
      " [-0.03072662  0.12902433  0.46837499 -0.60029765  0.82360728]\n",
      " [ 0.14028928  0.41050052 -0.14331429 -0.01537051  0.03248958]\n",
      " [ 0.86385107 -0.44557975 -0.94095647 -0.47083448 -0.41050728]\n",
      " [-0.01773804 -0.83791393  0.88589821 -0.04612965  0.1737156 ]]\n",
      "[0. 1. 0. 0. 0. 0. 0. 0. 0. 0.]\n"
     ]
    }
   ],
   "source": [
    "dataset_n = 10\n",
    "dataset_d = 5\n",
    "max_epoch = 20\n",
    "learning_rate = 0.1\n",
    "\n",
    "X, Y = generate_dateset(dataset_d, dataset_n)\n",
    "print(X)\n",
    "print(Y)"
   ],
   "metadata": {
    "collapsed": false,
    "pycharm": {
     "name": "#%%\n"
    }
   }
  },
  {
   "cell_type": "code",
   "execution_count": 7,
   "outputs": [
    {
     "data": {
      "text/plain": "<Figure size 432x288 with 1 Axes>",
      "image/png": "[encoded data removed]"
     },
     "metadata": {
      "needs_background": "light"
     },
     "output_type": "display_data"
    },
    {
     "name": "stdout",
     "output_type": "stream",
     "text": [
      "[0.8492767512326013, 1.0]\n",
      "[0.6165107135202518, 0.0]\n",
      "[0.40189215744588236, 0.0]\n",
      "[0.3250329534002504, 0.0]\n",
      "[0.30327241978638664, 0.0]\n",
      "[0.21305110099714852, 0.0]\n",
      "[0.07659912213779763, 0.0]\n",
      "[-0.0004062609718529231, 0.0]\n",
      "[-0.008832641948568365, 0.0]\n",
      "[-0.02261734928310266, 0.0]\n"
     ]
    },
    {
     "data": {
      "text/plain": "0"
     },
     "execution_count": 7,
     "metadata": {},
     "output_type": "execute_result"
    }
   ],
   "source": [
    "def run_test_with_activation_func(activation_func, print_result=False):\n",
    "    network = NeuralNetwork(\n",
    "        Layer(dataset_d, dataset_d, activation_func),\n",
    "        Layer(dataset_d, dataset_d, activation_func),\n",
    "        Layer(dataset_d, dataset_d, activation_func),\n",
    "        Layer(dataset_d, 1),\n",
    "    )\n",
    "\n",
    "    return run_test_with_network(network, X, Y, max_epoch, learning_rate, print_result)\n",
    "\n",
    "run_test_with_activation_func(relu, True)"
   ],
   "metadata": {
    "collapsed": false,
    "pycharm": {
     "name": "#%%\n"
    }
   }
  },
  {
   "cell_type": "code",
   "execution_count": 8,
   "outputs": [
    {
     "name": "stdout",
     "output_type": "stream",
     "text": [
      "1.3666508986890917 2.9323580491420715\n"
     ]
    }
   ],
   "source": [
    "def sigmoid(self: Node):\n",
    "    def backward_func0(out):\n",
    "        self.grad += (out.data * (1 - out.data)) * out.grad\n",
    "\n",
    "    return Node(1 / (1 + numpy.exp(-self.data)), [self], backward_func0)\n",
    "\n",
    "# Testing sigmoid function\n",
    "x = Node(1)\n",
    "y = 2 * (sigmoid(2 * x ** 3)) ** 3\n",
    "y.backward()\n",
    "print(y.data, x.grad)"
   ],
   "metadata": {
    "collapsed": false,
    "pycharm": {
     "name": "#%%\n"
    }
   }
  },
  {
   "cell_type": "code",
   "execution_count": 9,
   "outputs": [
    {
     "data": {
      "text/plain": "<Figure size 432x288 with 1 Axes>",
      "image/png": "[encoded data removed]"
     },
     "metadata": {
      "needs_background": "light"
     },
     "output_type": "display_data"
    },
    {
     "name": "stdout",
     "output_type": "stream",
     "text": [
      "[0.546426133364746, 0.0]\n",
      "[0.5392163271933398, 0.0]\n",
      "[0.53070927928858, 1.0]\n",
      "[0.5286413086114479, 0.0]\n",
      "[0.526965880392658, 0.0]\n",
      "[0.5190214574232628, 0.0]\n",
      "[0.5182729194701814, 0.0]\n",
      "[0.5172091471946244, 0.0]\n",
      "[0.5037806055211645, 0.0]\n",
      "[0.5020767580872079, 0.0]\n"
     ]
    },
    {
     "data": {
      "text/plain": "2"
     },
     "execution_count": 9,
     "metadata": {},
     "output_type": "execute_result"
    }
   ],
   "source": [
    "run_test_with_activation_func(sigmoid, True)"
   ],
   "metadata": {
    "collapsed": false,
    "pycharm": {
     "name": "#%%\n"
    }
   }
  },
  {
   "cell_type": "code",
   "execution_count": 10,
   "outputs": [
    {
     "ename": "KeyboardInterrupt",
     "evalue": "",
     "output_type": "error",
     "traceback": [
      "\u001B[1;31m---------------------------------------------------------------------------\u001B[0m",
      "\u001B[1;31mKeyboardInterrupt\u001B[0m                         Traceback (most recent call last)",
      "Input \u001B[1;32mIn [10]\u001B[0m, in \u001B[0;36m<cell line: 5>\u001B[1;34m()\u001B[0m\n\u001B[0;32m      5\u001B[0m \u001B[38;5;28;01mfor\u001B[39;00m i \u001B[38;5;129;01min\u001B[39;00m \u001B[38;5;28mrange\u001B[39m(result_size):\n\u001B[0;32m      6\u001B[0m     results_relu[i] \u001B[38;5;241m=\u001B[39m run_test_with_activation_func(relu)\n\u001B[1;32m----> 7\u001B[0m     results_sigmoid[i] \u001B[38;5;241m=\u001B[39m \u001B[43mrun_test_with_activation_func\u001B[49m\u001B[43m(\u001B[49m\u001B[43msigmoid\u001B[49m\u001B[43m)\u001B[49m\n\u001B[0;32m      9\u001B[0m \u001B[38;5;28mprint\u001B[39m(results_relu)\n\u001B[0;32m     10\u001B[0m \u001B[38;5;28mprint\u001B[39m(results_sigmoid)\n",
      "Input \u001B[1;32mIn [7]\u001B[0m, in \u001B[0;36mrun_test_with_activation_func\u001B[1;34m(activation_func, print_result)\u001B[0m\n\u001B[0;32m      1\u001B[0m \u001B[38;5;28;01mdef\u001B[39;00m \u001B[38;5;21mrun_test_with_activation_func\u001B[39m(activation_func, print_result\u001B[38;5;241m=\u001B[39m\u001B[38;5;28;01mFalse\u001B[39;00m):\n\u001B[0;32m      2\u001B[0m     network \u001B[38;5;241m=\u001B[39m NeuralNetwork(\n\u001B[0;32m      3\u001B[0m         Layer(dataset_d, dataset_d, activation_func),\n\u001B[0;32m      4\u001B[0m         Layer(dataset_d, dataset_d, activation_func),\n\u001B[0;32m      5\u001B[0m         Layer(dataset_d, dataset_d, activation_func),\n\u001B[0;32m      6\u001B[0m         Layer(dataset_d, \u001B[38;5;241m1\u001B[39m),\n\u001B[0;32m      7\u001B[0m     )\n\u001B[1;32m----> 9\u001B[0m     \u001B[38;5;28;01mreturn\u001B[39;00m \u001B[43mrun_test_with_network\u001B[49m\u001B[43m(\u001B[49m\u001B[43mnetwork\u001B[49m\u001B[43m,\u001B[49m\u001B[43m \u001B[49m\u001B[43mX\u001B[49m\u001B[43m,\u001B[49m\u001B[43m \u001B[49m\u001B[43mY\u001B[49m\u001B[43m,\u001B[49m\u001B[43m \u001B[49m\u001B[43mmax_epoch\u001B[49m\u001B[43m,\u001B[49m\u001B[43m \u001B[49m\u001B[43mlearning_rate\u001B[49m\u001B[43m,\u001B[49m\u001B[43m \u001B[49m\u001B[43mprint_result\u001B[49m\u001B[43m)\u001B[49m\n",
      "Input \u001B[1;32mIn [5]\u001B[0m, in \u001B[0;36mrun_test_with_network\u001B[1;34m(network, X, Y, max_epoch, learning_rate, print_result)\u001B[0m\n\u001B[0;32m      9\u001B[0m losses \u001B[38;5;241m=\u001B[39m []\n\u001B[0;32m     10\u001B[0m \u001B[38;5;28;01mfor\u001B[39;00m x, y \u001B[38;5;129;01min\u001B[39;00m \u001B[38;5;28mzip\u001B[39m(X, Y):\n\u001B[1;32m---> 11\u001B[0m     y_pred \u001B[38;5;241m=\u001B[39m \u001B[43mnetwork\u001B[49m\u001B[43m(\u001B[49m\u001B[43mx\u001B[49m\u001B[43m)\u001B[49m[\u001B[38;5;241m0\u001B[39m]\n\u001B[0;32m     12\u001B[0m     \u001B[38;5;28;01mif\u001B[39;00m y \u001B[38;5;241m==\u001B[39m \u001B[38;5;241m0\u001B[39m:\n\u001B[0;32m     13\u001B[0m         loss \u001B[38;5;241m=\u001B[39m (y_pred \u001B[38;5;241m-\u001B[39m \u001B[38;5;241m0\u001B[39m) \u001B[38;5;241m*\u001B[39m\u001B[38;5;241m*\u001B[39m \u001B[38;5;241m2\u001B[39m\n",
      "Input \u001B[1;32mIn [3]\u001B[0m, in \u001B[0;36mNeuralNetwork.__call__\u001B[1;34m(self, x)\u001B[0m\n\u001B[0;32m     38\u001B[0m y \u001B[38;5;241m=\u001B[39m x\n\u001B[0;32m     39\u001B[0m \u001B[38;5;28;01mfor\u001B[39;00m layer \u001B[38;5;129;01min\u001B[39;00m \u001B[38;5;28mself\u001B[39m\u001B[38;5;241m.\u001B[39mlayers:\n\u001B[1;32m---> 40\u001B[0m     y \u001B[38;5;241m=\u001B[39m \u001B[43mlayer\u001B[49m\u001B[43m(\u001B[49m\u001B[43my\u001B[49m\u001B[43m)\u001B[49m\n\u001B[0;32m     41\u001B[0m \u001B[38;5;28;01mreturn\u001B[39;00m y\n",
      "Input \u001B[1;32mIn [3]\u001B[0m, in \u001B[0;36mLayer.__call__\u001B[1;34m(self, inputs)\u001B[0m\n\u001B[0;32m     12\u001B[0m \u001B[38;5;28;01mdef\u001B[39;00m \u001B[38;5;21m__call__\u001B[39m(\u001B[38;5;28mself\u001B[39m, inputs):\n\u001B[1;32m---> 13\u001B[0m     y \u001B[38;5;241m=\u001B[39m [\u001B[38;5;28msum\u001B[39m(w \u001B[38;5;241m*\u001B[39m x \u001B[38;5;28;01mfor\u001B[39;00m w, x \u001B[38;5;129;01min\u001B[39;00m \u001B[38;5;28mzip\u001B[39m(weights, inputs)) \u001B[38;5;28;01mfor\u001B[39;00m weights \u001B[38;5;129;01min\u001B[39;00m \u001B[38;5;28mself\u001B[39m\u001B[38;5;241m.\u001B[39mweights]\n\u001B[0;32m     14\u001B[0m     y \u001B[38;5;241m=\u001B[39m [y \u001B[38;5;241m+\u001B[39m b \u001B[38;5;28;01mfor\u001B[39;00m y, b \u001B[38;5;129;01min\u001B[39;00m \u001B[38;5;28mzip\u001B[39m(y, \u001B[38;5;28mself\u001B[39m\u001B[38;5;241m.\u001B[39mbias)]\n\u001B[0;32m     15\u001B[0m     y \u001B[38;5;241m=\u001B[39m [\u001B[38;5;28mself\u001B[39m\u001B[38;5;241m.\u001B[39mactivation_func(y) \u001B[38;5;28;01mfor\u001B[39;00m y \u001B[38;5;129;01min\u001B[39;00m y]\n",
      "Input \u001B[1;32mIn [3]\u001B[0m, in \u001B[0;36m<listcomp>\u001B[1;34m(.0)\u001B[0m\n\u001B[0;32m     12\u001B[0m \u001B[38;5;28;01mdef\u001B[39;00m \u001B[38;5;21m__call__\u001B[39m(\u001B[38;5;28mself\u001B[39m, inputs):\n\u001B[1;32m---> 13\u001B[0m     y \u001B[38;5;241m=\u001B[39m [\u001B[38;5;28;43msum\u001B[39;49m\u001B[43m(\u001B[49m\u001B[43mw\u001B[49m\u001B[43m \u001B[49m\u001B[38;5;241;43m*\u001B[39;49m\u001B[43m \u001B[49m\u001B[43mx\u001B[49m\u001B[43m \u001B[49m\u001B[38;5;28;43;01mfor\u001B[39;49;00m\u001B[43m \u001B[49m\u001B[43mw\u001B[49m\u001B[43m,\u001B[49m\u001B[43m \u001B[49m\u001B[43mx\u001B[49m\u001B[43m \u001B[49m\u001B[38;5;129;43;01min\u001B[39;49;00m\u001B[43m \u001B[49m\u001B[38;5;28;43mzip\u001B[39;49m\u001B[43m(\u001B[49m\u001B[43mweights\u001B[49m\u001B[43m,\u001B[49m\u001B[43m \u001B[49m\u001B[43minputs\u001B[49m\u001B[43m)\u001B[49m\u001B[43m)\u001B[49m \u001B[38;5;28;01mfor\u001B[39;00m weights \u001B[38;5;129;01min\u001B[39;00m \u001B[38;5;28mself\u001B[39m\u001B[38;5;241m.\u001B[39mweights]\n\u001B[0;32m     14\u001B[0m     y \u001B[38;5;241m=\u001B[39m [y \u001B[38;5;241m+\u001B[39m b \u001B[38;5;28;01mfor\u001B[39;00m y, b \u001B[38;5;129;01min\u001B[39;00m \u001B[38;5;28mzip\u001B[39m(y, \u001B[38;5;28mself\u001B[39m\u001B[38;5;241m.\u001B[39mbias)]\n\u001B[0;32m     15\u001B[0m     y \u001B[38;5;241m=\u001B[39m [\u001B[38;5;28mself\u001B[39m\u001B[38;5;241m.\u001B[39mactivation_func(y) \u001B[38;5;28;01mfor\u001B[39;00m y \u001B[38;5;129;01min\u001B[39;00m y]\n",
      "Input \u001B[1;32mIn [2]\u001B[0m, in \u001B[0;36mNode.__add__\u001B[1;34m(self, other)\u001B[0m\n\u001B[0;32m     21\u001B[0m \u001B[38;5;28;01mdef\u001B[39;00m \u001B[38;5;21m__add__\u001B[39m(\u001B[38;5;28mself\u001B[39m, other):\n\u001B[1;32m---> 22\u001B[0m     other \u001B[38;5;241m=\u001B[39m other \u001B[38;5;28;01mif\u001B[39;00m \u001B[38;5;28;43misinstance\u001B[39;49m\u001B[43m(\u001B[49m\u001B[43mother\u001B[49m\u001B[43m,\u001B[49m\u001B[43m \u001B[49m\u001B[43mNode\u001B[49m\u001B[43m)\u001B[49m \u001B[38;5;28;01melse\u001B[39;00m Node(other)\n\u001B[0;32m     24\u001B[0m     \u001B[38;5;28;01mdef\u001B[39;00m \u001B[38;5;21mbackward_func0\u001B[39m(out):\n\u001B[0;32m     25\u001B[0m         \u001B[38;5;28mself\u001B[39m\u001B[38;5;241m.\u001B[39mgrad \u001B[38;5;241m+\u001B[39m\u001B[38;5;241m=\u001B[39m out\u001B[38;5;241m.\u001B[39mgrad\n",
      "\u001B[1;31mKeyboardInterrupt\u001B[0m: "
     ]
    }
   ],
   "source": [
    "result_size = 50\n",
    "results_relu = [None] * result_size\n",
    "results_sigmoid = [None] * result_size\n",
    "\n",
    "for i in range(result_size):\n",
    "    results_relu[i] = run_test_with_activation_func(relu)\n",
    "    results_sigmoid[i] = run_test_with_activation_func(sigmoid)\n",
    "\n",
    "print(results_relu)\n",
    "print(results_sigmoid)"
   ],
   "metadata": {
    "collapsed": false,
    "pycharm": {
     "name": "#%%\n"
    }
   }
  },
  {
   "cell_type": "code",
   "execution_count": null,
   "outputs": [],
   "source": [
    "plt.hist(results_relu, range=(0, dataset_n))\n",
    "plt.title(\"Relu\")\n",
    "plt.show()\n",
    "\n",
    "plt.hist(results_sigmoid, range=(0, dataset_n))\n",
    "plt.title(\"Sigmoid\")\n",
    "plt.show()"
   ],
   "metadata": {
    "collapsed": false,
    "pycharm": {
     "name": "#%%\n"
    }
   }
  }
 ],
 "metadata": {
  "kernelspec": {
   "display_name": "Python 3",
   "language": "python",
   "name": "python3"
  },
  "language_info": {
   "codemirror_mode": {
    "name": "ipython",
    "version": 2
   },
   "file_extension": ".py",
   "mimetype": "text/x-python",
   "name": "python",
   "nbconvert_exporter": "python",
   "pygments_lexer": "ipython2",
   "version": "2.7.6"
  }
 },
 "nbformat": 4,
 "nbformat_minor": 0
}